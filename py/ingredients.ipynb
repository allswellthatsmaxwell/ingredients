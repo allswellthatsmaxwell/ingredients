{
 "cells": [
  {
   "cell_type": "code",
   "execution_count": 91,
   "id": "41dfc285-e23a-49c3-8cc7-91a92dbfc840",
   "metadata": {},
   "outputs": [],
   "source": [
    "%load_ext autoreload\n",
    "%autoreload 2"
   ]
  },
  {
   "cell_type": "code",
   "execution_count": null,
   "id": "6528888e-3a1e-42c9-940a-9295d67e7e71",
   "metadata": {},
   "outputs": [],
   "source": []
  },
  {
   "cell_type": "code",
   "execution_count": 122,
   "id": "77204456-8908-4b85-bf7d-e94f260c4f4d",
   "metadata": {},
   "outputs": [],
   "source": [
    "import pandas as pd, numpy as np\n",
    "\n",
    "import ingredients as ings"
   ]
  },
  {
   "cell_type": "code",
   "execution_count": 94,
   "id": "7ee7b674-e894-4ab7-a4fa-ed57bf57e98e",
   "metadata": {},
   "outputs": [],
   "source": [
    "FPATH = \"../data/Ingredient Sensitivity.xlsx\"\n",
    "dat = pd.read_excel(FPATH)"
   ]
  },
  {
   "cell_type": "code",
   "execution_count": 95,
   "id": "b5e88b4e-1c63-4fe8-85e9-cf2e63290b10",
   "metadata": {},
   "outputs": [],
   "source": [
    "ingredient_cols = [c for c in dat.columns if \"ingredient\" in c.lower()]"
   ]
  },
  {
   "cell_type": "code",
   "execution_count": 152,
   "id": "aabd02ee-2ddc-4fb6-be5c-02d88ae8e6a7",
   "metadata": {},
   "outputs": [],
   "source": [
    "ing = ings.Ingredients(dat)"
   ]
  },
  {
   "cell_type": "code",
   "execution_count": 178,
   "id": "7a89c3d1-287b-44d8-b3d7-89e73956e436",
   "metadata": {},
   "outputs": [],
   "source": [
    "# ing.groups_to_hits"
   ]
  },
  {
   "cell_type": "code",
   "execution_count": 177,
   "id": "2db27e20-8b59-491c-ac80-ad7b81acb0c1",
   "metadata": {},
   "outputs": [],
   "source": [
    "# ing.ingredient_to_brands"
   ]
  },
  {
   "cell_type": "code",
   "execution_count": 175,
   "id": "a2fc4d74-5e5a-4345-aaad-745682468950",
   "metadata": {},
   "outputs": [],
   "source": [
    "# ing.ingredient_to_group"
   ]
  },
  {
   "cell_type": "code",
   "execution_count": 176,
   "id": "3719c73d-63bc-496a-a309-8d0679ce17cb",
   "metadata": {},
   "outputs": [],
   "source": [
    "# ing.ingredients_to_hits"
   ]
  },
  {
   "cell_type": "code",
   "execution_count": 167,
   "id": "29d2f345-555b-47c8-bb97-06e03e16ac09",
   "metadata": {},
   "outputs": [],
   "source": [
    "ing.write_stats_xlsx('../ingredient_stats.xlsx')"
   ]
  },
  {
   "cell_type": "code",
   "execution_count": 171,
   "id": "458769b8-0c64-4f3f-9370-4d456b7bd9ca",
   "metadata": {},
   "outputs": [
    {
     "data": {
      "text/plain": [
       "0.7"
      ]
     },
     "execution_count": 171,
     "metadata": {},
     "output_type": "execute_result"
    }
   ],
   "source": [
    "sum(ing.ingredient_stats_dat['allergy_hits'] == ing.ingredient_stats_dat['nproducts']) / ing.ingredient_stats_dat.shape[0]"
   ]
  },
  {
   "cell_type": "code",
   "execution_count": 173,
   "id": "cf7476a0-0193-4608-83b5-d3ac0422b083",
   "metadata": {},
   "outputs": [
    {
     "data": {
      "text/html": [
       "<div>\n",
       "<style scoped>\n",
       "    .dataframe tbody tr th:only-of-type {\n",
       "        vertical-align: middle;\n",
       "    }\n",
       "\n",
       "    .dataframe tbody tr th {\n",
       "        vertical-align: top;\n",
       "    }\n",
       "\n",
       "    .dataframe thead th {\n",
       "        text-align: right;\n",
       "    }\n",
       "</style>\n",
       "<table border=\"1\" class=\"dataframe\">\n",
       "  <thead>\n",
       "    <tr style=\"text-align: right;\">\n",
       "      <th></th>\n",
       "      <th>group</th>\n",
       "      <th>posterior_mean</th>\n",
       "      <th>allergy_hits</th>\n",
       "      <th>nproducts</th>\n",
       "    </tr>\n",
       "  </thead>\n",
       "  <tbody>\n",
       "    <tr>\n",
       "      <th>115</th>\n",
       "      <td>limonene</td>\n",
       "      <td>0.5</td>\n",
       "      <td>1</td>\n",
       "      <td>2</td>\n",
       "    </tr>\n",
       "  </tbody>\n",
       "</table>\n",
       "</div>"
      ],
      "text/plain": [
       "        group  posterior_mean  allergy_hits  nproducts\n",
       "115  limonene             0.5             1          2"
      ]
     },
     "execution_count": 173,
     "metadata": {},
     "output_type": "execute_result"
    }
   ],
   "source": [
    "ing.ingredient_stats_dat[ing.ingredient_stats_dat['group'].apply(lambda s: 'limonene' in s)]"
   ]
  },
  {
   "cell_type": "code",
   "execution_count": 174,
   "id": "8c3971c2-9197-4455-86f8-b8dfad149e51",
   "metadata": {},
   "outputs": [
    {
     "data": {
      "text/plain": [
       "['Mrs. Meyers', 'OUAI']"
      ]
     },
     "execution_count": 174,
     "metadata": {},
     "output_type": "execute_result"
    }
   ],
   "source": [
    "ing.ingredient_to_brands['limonene']"
   ]
  },
  {
   "cell_type": "code",
   "execution_count": 162,
   "id": "c715aacc-9f26-419f-ad14-ddd97f50225d",
   "metadata": {},
   "outputs": [
    {
     "data": {
      "text/html": [
       "<div>\n",
       "<style scoped>\n",
       "    .dataframe tbody tr th:only-of-type {\n",
       "        vertical-align: middle;\n",
       "    }\n",
       "\n",
       "    .dataframe tbody tr th {\n",
       "        vertical-align: top;\n",
       "    }\n",
       "\n",
       "    .dataframe thead th {\n",
       "        text-align: right;\n",
       "    }\n",
       "</style>\n",
       "<table border=\"1\" class=\"dataframe\">\n",
       "  <thead>\n",
       "    <tr style=\"text-align: right;\">\n",
       "      <th></th>\n",
       "      <th>group</th>\n",
       "      <th>posterior_mean</th>\n",
       "      <th>allergy_hits</th>\n",
       "      <th>nproducts</th>\n",
       "    </tr>\n",
       "  </thead>\n",
       "  <tbody>\n",
       "    <tr>\n",
       "      <th>19</th>\n",
       "      <td>Chelating_Agents</td>\n",
       "      <td>0.88</td>\n",
       "      <td>6</td>\n",
       "      <td>6</td>\n",
       "    </tr>\n",
       "    <tr>\n",
       "      <th>28</th>\n",
       "      <td>Quaternary_Ammonium_Compounds</td>\n",
       "      <td>0.86</td>\n",
       "      <td>5</td>\n",
       "      <td>5</td>\n",
       "    </tr>\n",
       "    <tr>\n",
       "      <th>13</th>\n",
       "      <td>Acids_and_Salts</td>\n",
       "      <td>0.86</td>\n",
       "      <td>11</td>\n",
       "      <td>12</td>\n",
       "    </tr>\n",
       "    <tr>\n",
       "      <th>21</th>\n",
       "      <td>Alkalizing_Agents</td>\n",
       "      <td>0.83</td>\n",
       "      <td>4</td>\n",
       "      <td>4</td>\n",
       "    </tr>\n",
       "    <tr>\n",
       "      <th>22</th>\n",
       "      <td>Colorants</td>\n",
       "      <td>0.83</td>\n",
       "      <td>4</td>\n",
       "      <td>4</td>\n",
       "    </tr>\n",
       "    <tr>\n",
       "      <th>26</th>\n",
       "      <td>Alcohols</td>\n",
       "      <td>0.83</td>\n",
       "      <td>4</td>\n",
       "      <td>4</td>\n",
       "    </tr>\n",
       "    <tr>\n",
       "      <th>0</th>\n",
       "      <td>Emollients</td>\n",
       "      <td>0.80</td>\n",
       "      <td>7</td>\n",
       "      <td>8</td>\n",
       "    </tr>\n",
       "    <tr>\n",
       "      <th>12</th>\n",
       "      <td>Water</td>\n",
       "      <td>0.80</td>\n",
       "      <td>11</td>\n",
       "      <td>13</td>\n",
       "    </tr>\n",
       "    <tr>\n",
       "      <th>10</th>\n",
       "      <td>Vitamins</td>\n",
       "      <td>0.80</td>\n",
       "      <td>7</td>\n",
       "      <td>8</td>\n",
       "    </tr>\n",
       "    <tr>\n",
       "      <th>20</th>\n",
       "      <td>Amino_Acids</td>\n",
       "      <td>0.80</td>\n",
       "      <td>3</td>\n",
       "      <td>3</td>\n",
       "    </tr>\n",
       "    <tr>\n",
       "      <th>11</th>\n",
       "      <td>Cleaning_Agents</td>\n",
       "      <td>0.79</td>\n",
       "      <td>10</td>\n",
       "      <td>12</td>\n",
       "    </tr>\n",
       "    <tr>\n",
       "      <th>14</th>\n",
       "      <td>Preservatives</td>\n",
       "      <td>0.79</td>\n",
       "      <td>10</td>\n",
       "      <td>12</td>\n",
       "    </tr>\n",
       "    <tr>\n",
       "      <th>17</th>\n",
       "      <td>Thickeners_Stabilizers</td>\n",
       "      <td>0.78</td>\n",
       "      <td>6</td>\n",
       "      <td>7</td>\n",
       "    </tr>\n",
       "    <tr>\n",
       "      <th>24</th>\n",
       "      <td>Phospholipids</td>\n",
       "      <td>0.75</td>\n",
       "      <td>2</td>\n",
       "      <td>2</td>\n",
       "    </tr>\n",
       "    <tr>\n",
       "      <th>1</th>\n",
       "      <td>Humectants</td>\n",
       "      <td>0.73</td>\n",
       "      <td>10</td>\n",
       "      <td>13</td>\n",
       "    </tr>\n",
       "    <tr>\n",
       "      <th>16</th>\n",
       "      <td>Fragrance_Components</td>\n",
       "      <td>0.73</td>\n",
       "      <td>7</td>\n",
       "      <td>9</td>\n",
       "    </tr>\n",
       "    <tr>\n",
       "      <th>5</th>\n",
       "      <td>Plant_Extracts</td>\n",
       "      <td>0.71</td>\n",
       "      <td>4</td>\n",
       "      <td>5</td>\n",
       "    </tr>\n",
       "    <tr>\n",
       "      <th>23</th>\n",
       "      <td>Sugars_Carbohydrates</td>\n",
       "      <td>0.67</td>\n",
       "      <td>1</td>\n",
       "      <td>1</td>\n",
       "    </tr>\n",
       "    <tr>\n",
       "      <th>25</th>\n",
       "      <td>Fatty_Acids</td>\n",
       "      <td>0.67</td>\n",
       "      <td>1</td>\n",
       "      <td>1</td>\n",
       "    </tr>\n",
       "    <tr>\n",
       "      <th>27</th>\n",
       "      <td>Silicones</td>\n",
       "      <td>0.67</td>\n",
       "      <td>1</td>\n",
       "      <td>1</td>\n",
       "    </tr>\n",
       "    <tr>\n",
       "      <th>29</th>\n",
       "      <td>Animal_Derivatives</td>\n",
       "      <td>0.67</td>\n",
       "      <td>1</td>\n",
       "      <td>1</td>\n",
       "    </tr>\n",
       "    <tr>\n",
       "      <th>15</th>\n",
       "      <td>Citrus_Oils</td>\n",
       "      <td>0.67</td>\n",
       "      <td>3</td>\n",
       "      <td>4</td>\n",
       "    </tr>\n",
       "    <tr>\n",
       "      <th>18</th>\n",
       "      <td>Ferments</td>\n",
       "      <td>0.67</td>\n",
       "      <td>1</td>\n",
       "      <td>1</td>\n",
       "    </tr>\n",
       "    <tr>\n",
       "      <th>7</th>\n",
       "      <td>Plant_Oils</td>\n",
       "      <td>0.67</td>\n",
       "      <td>5</td>\n",
       "      <td>7</td>\n",
       "    </tr>\n",
       "    <tr>\n",
       "      <th>6</th>\n",
       "      <td>Coconut_Derivatives</td>\n",
       "      <td>0.67</td>\n",
       "      <td>7</td>\n",
       "      <td>10</td>\n",
       "    </tr>\n",
       "    <tr>\n",
       "      <th>30</th>\n",
       "      <td>UV_Filters</td>\n",
       "      <td>0.67</td>\n",
       "      <td>1</td>\n",
       "      <td>1</td>\n",
       "    </tr>\n",
       "    <tr>\n",
       "      <th>8</th>\n",
       "      <td>Aloe</td>\n",
       "      <td>0.62</td>\n",
       "      <td>4</td>\n",
       "      <td>6</td>\n",
       "    </tr>\n",
       "    <tr>\n",
       "      <th>4</th>\n",
       "      <td>Minerals</td>\n",
       "      <td>0.50</td>\n",
       "      <td>1</td>\n",
       "      <td>2</td>\n",
       "    </tr>\n",
       "    <tr>\n",
       "      <th>3</th>\n",
       "      <td>Lavender_Herbal_Oils</td>\n",
       "      <td>0.50</td>\n",
       "      <td>1</td>\n",
       "      <td>2</td>\n",
       "    </tr>\n",
       "    <tr>\n",
       "      <th>2</th>\n",
       "      <td>Essential_Oils</td>\n",
       "      <td>0.40</td>\n",
       "      <td>1</td>\n",
       "      <td>3</td>\n",
       "    </tr>\n",
       "    <tr>\n",
       "      <th>9</th>\n",
       "      <td>Vasodilators_Actives</td>\n",
       "      <td>0.33</td>\n",
       "      <td>0</td>\n",
       "      <td>1</td>\n",
       "    </tr>\n",
       "  </tbody>\n",
       "</table>\n",
       "</div>"
      ],
      "text/plain": [
       "                            group  posterior_mean  allergy_hits  nproducts\n",
       "19               Chelating_Agents            0.88             6          6\n",
       "28  Quaternary_Ammonium_Compounds            0.86             5          5\n",
       "13                Acids_and_Salts            0.86            11         12\n",
       "21              Alkalizing_Agents            0.83             4          4\n",
       "22                      Colorants            0.83             4          4\n",
       "26                       Alcohols            0.83             4          4\n",
       "0                      Emollients            0.80             7          8\n",
       "12                          Water            0.80            11         13\n",
       "10                       Vitamins            0.80             7          8\n",
       "20                    Amino_Acids            0.80             3          3\n",
       "11                Cleaning_Agents            0.79            10         12\n",
       "14                  Preservatives            0.79            10         12\n",
       "17         Thickeners_Stabilizers            0.78             6          7\n",
       "24                  Phospholipids            0.75             2          2\n",
       "1                      Humectants            0.73            10         13\n",
       "16           Fragrance_Components            0.73             7          9\n",
       "5                  Plant_Extracts            0.71             4          5\n",
       "23           Sugars_Carbohydrates            0.67             1          1\n",
       "25                    Fatty_Acids            0.67             1          1\n",
       "27                      Silicones            0.67             1          1\n",
       "29             Animal_Derivatives            0.67             1          1\n",
       "15                    Citrus_Oils            0.67             3          4\n",
       "18                       Ferments            0.67             1          1\n",
       "7                      Plant_Oils            0.67             5          7\n",
       "6             Coconut_Derivatives            0.67             7         10\n",
       "30                     UV_Filters            0.67             1          1\n",
       "8                            Aloe            0.62             4          6\n",
       "4                        Minerals            0.50             1          2\n",
       "3            Lavender_Herbal_Oils            0.50             1          2\n",
       "2                  Essential_Oils            0.40             1          3\n",
       "9            Vasodilators_Actives            0.33             0          1"
      ]
     },
     "execution_count": 162,
     "metadata": {},
     "output_type": "execute_result"
    }
   ],
   "source": [
    "ing.group_stats_dat"
   ]
  }
 ],
 "metadata": {
  "kernelspec": {
   "display_name": "ds",
   "language": "python",
   "name": "ds"
  },
  "language_info": {
   "codemirror_mode": {
    "name": "ipython",
    "version": 3
   },
   "file_extension": ".py",
   "mimetype": "text/x-python",
   "name": "python",
   "nbconvert_exporter": "python",
   "pygments_lexer": "ipython3",
   "version": "3.11.6"
  }
 },
 "nbformat": 4,
 "nbformat_minor": 5
}
